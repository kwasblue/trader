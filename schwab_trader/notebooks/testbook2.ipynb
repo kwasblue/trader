{
 "cells": [
  {
   "cell_type": "code",
   "execution_count": 2,
   "id": "4eeb1860",
   "metadata": {},
   "outputs": [],
   "source": [
    "# this is a working single stock prototype\n",
    "import sys\n",
    "from pathlib import Path\n",
    "project_root = Path.cwd().parent\n",
    "if str(project_root) not in sys.path:\n",
    "    sys.path.append(str(project_root))\n",
    "\n",
    "import nest_asyncio\n",
    "import asyncio\n",
    "from data.streaming.authenticator import Authenticator\n",
    "from data.streaming.streamer import SchwabStreamingClient\n",
    "\n",
    "async def main():\n",
    "    auth = Authenticator()\n",
    "    streamer = SchwabStreamingClient(apikey=auth.apikey, secretkey=auth.secret)\n",
    "    await streamer.run(['AAPL'])\n",
    "    \n",
    "\n",
    "if __name__ == \"__main__\":\n",
    "    nest_asyncio.apply()\n",
    "    asyncio.run(main())\n"
   ]
  }
 ],
 "metadata": {
  "kernelspec": {
   "display_name": "venv",
   "language": "python",
   "name": "python3"
  },
  "language_info": {
   "codemirror_mode": {
    "name": "ipython",
    "version": 3
   },
   "file_extension": ".py",
   "mimetype": "text/x-python",
   "name": "python",
   "nbconvert_exporter": "python",
   "pygments_lexer": "ipython3",
   "version": "3.12.3"
  }
 },
 "nbformat": 4,
 "nbformat_minor": 5
}
