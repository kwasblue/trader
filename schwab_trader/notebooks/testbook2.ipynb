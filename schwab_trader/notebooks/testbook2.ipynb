{
 "cells": [
  {
   "cell_type": "code",
   "execution_count": 1,
   "id": "4eeb1860",
   "metadata": {},
   "outputs": [
    {
     "name": "stdout",
     "output_type": "stream",
     "text": [
      "{}\n",
      "{}\n",
      "{'AAPL': {'last_price': 213.9, 'bid_price': 213.94, 'ask_price': 213.94, 'close_price': 214.05}}\n",
      "{'AAPL': {'last_price': None, 'bid_price': None, 'ask_price': 213.92, 'close_price': None}}\n",
      "{'AAPL': {'last_price': None, 'bid_price': None, 'ask_price': 213.94, 'close_price': None}}\n",
      "{'AAPL': {'last_price': None, 'bid_price': None, 'ask_price': 213.9001, 'close_price': None}}\n",
      "{'AAPL': {'last_price': None, 'bid_price': None, 'ask_price': 213.9, 'close_price': None}}\n",
      "{'AAPL': {'last_price': None, 'bid_price': None, 'ask_price': 213.9018, 'close_price': None}}\n",
      "{'AAPL': {'last_price': 213.91, 'bid_price': None, 'ask_price': None, 'close_price': None}}\n",
      "{'AAPL': {'last_price': None, 'bid_price': None, 'ask_price': 213.91, 'close_price': None}}\n",
      "{'AAPL': {'last_price': None, 'bid_price': None, 'ask_price': None, 'close_price': None}}\n",
      "{'AAPL': {'last_price': None, 'bid_price': None, 'ask_price': None, 'close_price': None}}\n",
      "{'AAPL': {'last_price': None, 'bid_price': None, 'ask_price': None, 'close_price': None}}\n",
      "{'AAPL': {'last_price': None, 'bid_price': None, 'ask_price': None, 'close_price': None}}\n",
      "{'AAPL': {'last_price': None, 'bid_price': None, 'ask_price': None, 'close_price': None}}\n",
      "{'AAPL': {'last_price': None, 'bid_price': None, 'ask_price': 213.94, 'close_price': None}}\n",
      "{'AAPL': {'last_price': None, 'bid_price': 214, 'ask_price': 213.91, 'close_price': None}}\n",
      "{'AAPL': {'last_price': None, 'bid_price': 214, 'ask_price': 213.91, 'close_price': None}}\n",
      "{'AAPL': {'last_price': 213.9, 'bid_price': None, 'ask_price': None, 'close_price': None}}\n",
      "{'AAPL': {'last_price': None, 'bid_price': None, 'ask_price': 213.92, 'close_price': None}}\n",
      "{'AAPL': {'last_price': None, 'bid_price': None, 'ask_price': 213.92, 'close_price': None}}\n",
      "{'AAPL': {'last_price': None, 'bid_price': None, 'ask_price': 213.92, 'close_price': None}}\n",
      "{'AAPL': {'last_price': None, 'bid_price': None, 'ask_price': 214, 'close_price': None}}\n",
      "{'AAPL': {'last_price': None, 'bid_price': None, 'ask_price': None, 'close_price': None}}\n",
      "{'AAPL': {'last_price': None, 'bid_price': None, 'ask_price': 213.91, 'close_price': None}}\n",
      "{'AAPL': {'last_price': None, 'bid_price': None, 'ask_price': None, 'close_price': None}}\n",
      "{'AAPL': {'last_price': None, 'bid_price': None, 'ask_price': 213.94, 'close_price': None}}\n",
      "{'AAPL': {'last_price': None, 'bid_price': None, 'ask_price': 213.91, 'close_price': None}}\n",
      "{'AAPL': {'last_price': None, 'bid_price': None, 'ask_price': None, 'close_price': None}}\n",
      "{'AAPL': {'last_price': None, 'bid_price': None, 'ask_price': 213.94, 'close_price': None}}\n",
      "{'AAPL': {'last_price': None, 'bid_price': None, 'ask_price': 214, 'close_price': None}}\n",
      "{'AAPL': {'last_price': None, 'bid_price': None, 'ask_price': 214, 'close_price': None}}\n",
      "{'AAPL': {'last_price': None, 'bid_price': None, 'ask_price': 214, 'close_price': None}}\n",
      "{'AAPL': {'last_price': None, 'bid_price': None, 'ask_price': None, 'close_price': None}}\n",
      "{'AAPL': {'last_price': None, 'bid_price': None, 'ask_price': None, 'close_price': None}}\n",
      "{'AAPL': {'last_price': None, 'bid_price': None, 'ask_price': 213.95, 'close_price': None}}\n",
      "{'AAPL': {'last_price': None, 'bid_price': None, 'ask_price': 213.9, 'close_price': None}}\n",
      "{'AAPL': {'last_price': None, 'bid_price': None, 'ask_price': 214, 'close_price': None}}\n",
      "{'AAPL': {'last_price': None, 'bid_price': None, 'ask_price': 213.95, 'close_price': None}}\n",
      "{'AAPL': {'last_price': None, 'bid_price': None, 'ask_price': 214, 'close_price': None}}\n",
      "{'AAPL': {'last_price': None, 'bid_price': None, 'ask_price': None, 'close_price': None}}\n",
      "{'AAPL': {'last_price': 213.97, 'bid_price': 214.04, 'ask_price': None, 'close_price': None}}\n"
     ]
    }
   ],
   "source": [
    "# this is a working single stock prototype\n",
    "import sys\n",
    "from pathlib import Path\n",
    "project_root = Path.cwd().parent\n",
    "if str(project_root) not in sys.path:\n",
    "    sys.path.append(str(project_root))\n",
    "\n",
    "import nest_asyncio\n",
    "import asyncio\n",
    "from data.streaming.authenticator import Authenticator\n",
    "from data.streaming.streamer import SchwabStreamingClient\n",
    "\n",
    "async def main():\n",
    "    auth = Authenticator()\n",
    "    streamer = SchwabStreamingClient(apikey=auth.apikey, secretkey=auth.secret)\n",
    "    await streamer.run(['AAPL'])\n",
    "    \n",
    "\n",
    "if __name__ == \"__main__\":\n",
    "    nest_asyncio.apply()\n",
    "    asyncio.run(main())\n"
   ]
  }
 ],
 "metadata": {
  "kernelspec": {
   "display_name": "venv",
   "language": "python",
   "name": "python3"
  },
  "language_info": {
   "codemirror_mode": {
    "name": "ipython",
    "version": 3
   },
   "file_extension": ".py",
   "mimetype": "text/x-python",
   "name": "python",
   "nbconvert_exporter": "python",
   "pygments_lexer": "ipython3",
   "version": "3.12.10"
  }
 },
 "nbformat": 4,
 "nbformat_minor": 5
}
